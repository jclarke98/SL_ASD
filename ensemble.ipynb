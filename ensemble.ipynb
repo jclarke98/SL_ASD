{
 "cells": [
  {
   "cell_type": "code",
   "execution_count": 17,
   "metadata": {},
   "outputs": [],
   "source": [
    "import numpy as np\n",
    "import matplotlib.pyplot as plt\n",
    "from glob import glob\n",
    "import json\n",
    "from tqdm import tqdm\n",
    "from sklearn.metrics import average_precision_score"
   ]
  },
  {
   "cell_type": "code",
   "execution_count": 4,
   "metadata": {},
   "outputs": [],
   "source": [
    "sl_path = '/home/jasonclarke/H-drive/mnt/parscratch/users/acp21jrc/sl_ASD_github/outputs/pyannote_MD-0.0_visible/'\n",
    "light_path = '/home/jasonclarke/H-drive/users/acp21jrc/Light-ASD_Ego4D/output/results/'\n",
    "\n",
    "# collect all the json files\n",
    "json_files_light = {f.split('/')[-1].split('.')[0]: f for f in glob(light_path + '/*.json')}\n",
    "\n",
    "# find all the json files that are not in the sl path\n",
    "json_files_sl = {f.split('/')[-1].split('.')[0]: f for f in glob(sl_path + '/*.json')}\n",
    "\n"
   ]
  },
  {
   "cell_type": "code",
   "execution_count": 36,
   "metadata": {},
   "outputs": [
    {
     "name": "stderr",
     "output_type": "stream",
     "text": [
      "100%|██████████| 4068/4068 [01:59<00:00, 33.92it/s]\n"
     ]
    }
   ],
   "source": [
    "import numpy as np\n",
    "from sklearn.metrics import average_precision_score\n",
    "\n",
    "# Initialize arrays with efficient datatypes\n",
    "scores = np.array([], dtype=np.float32)  # Halves memory usage vs float64\n",
    "labels = np.array([], dtype=np.uint8)    # 8x more efficient than float64\n",
    "\n",
    "for trackid in tqdm(json_files_light):\n",
    "    with open(json_files_light[trackid]) as f:\n",
    "        light_data = json.load(f)\n",
    "\n",
    "    if trackid in json_files_sl:\n",
    "        with open(json_files_sl[trackid]) as f:\n",
    "            sl_data = json.load(f)\n",
    "        \n",
    "        assert len(sl_data) == len(light_data), f\"Length mismatch for {trackid}\"\n",
    "\n",
    "        # Preallocate temporary arrays\n",
    "        track_scores = np.zeros(len(light_data), dtype=np.float32)\n",
    "        track_labels = np.zeros(len(light_data), dtype=np.uint8)\n",
    "\n",
    "        for i, (frame_light, frame_sl) in enumerate(zip(light_data, sl_data)):\n",
    "            track_scores[i] = (float(frame_light['score']) + float(frame_sl['score'])) / 2\n",
    "            # track_scores[i] = float(frame_sl['score'])  # Use only light scores\n",
    "            track_labels[i] = int(round(frame_light['label']))  # Ensure binary labels\n",
    "\n",
    "        scores = np.concatenate([scores, track_scores])\n",
    "        labels = np.concatenate([labels, track_labels])\n",
    "    else:\n",
    "        track_scores = np.zeros(len(light_data), dtype=np.float32)\n",
    "        track_labels = np.zeros(len(light_data), dtype=np.uint8)\n",
    "\n",
    "        for i, frame_light in enumerate(light_data):\n",
    "            track_scores[i] = float(frame_light['score'])\n",
    "            track_labels[i] = int(round(frame_light['label']))\n",
    "\n",
    "        scores = np.concatenate([scores, track_scores])\n",
    "        labels = np.concatenate([labels, track_labels])\n",
    "\n",
    "ap_score = average_precision_score(labels, scores)"
   ]
  },
  {
   "cell_type": "code",
   "execution_count": 35,
   "metadata": {},
   "outputs": [
    {
     "data": {
      "text/plain": [
       "np.float64(0.5570521870340842)"
      ]
     },
     "execution_count": 35,
     "metadata": {},
     "output_type": "execute_result"
    }
   ],
   "source": [
    "ap_score"
   ]
  },
  {
   "cell_type": "code",
   "execution_count": 22,
   "metadata": {},
   "outputs": [
    {
     "name": "stdout",
     "output_type": "stream",
     "text": [
      "4068\n"
     ]
    }
   ],
   "source": [
    "print(len(json_files_light))"
   ]
  },
  {
   "cell_type": "code",
   "execution_count": 21,
   "metadata": {},
   "outputs": [
    {
     "data": {
      "text/plain": [
       "472291"
      ]
     },
     "execution_count": 21,
     "metadata": {},
     "output_type": "execute_result"
    }
   ],
   "source": [
    "len(labels)"
   ]
  },
  {
   "cell_type": "code",
   "execution_count": null,
   "metadata": {},
   "outputs": [],
   "source": []
  }
 ],
 "metadata": {
  "kernelspec": {
   "display_name": "TalkNet",
   "language": "python",
   "name": "python3"
  },
  "language_info": {
   "codemirror_mode": {
    "name": "ipython",
    "version": 3
   },
   "file_extension": ".py",
   "mimetype": "text/x-python",
   "name": "python",
   "nbconvert_exporter": "python",
   "pygments_lexer": "ipython3",
   "version": "3.10.16"
  }
 },
 "nbformat": 4,
 "nbformat_minor": 2
}
